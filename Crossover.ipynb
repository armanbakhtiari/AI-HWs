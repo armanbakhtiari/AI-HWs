{
  "nbformat": 4,
  "nbformat_minor": 0,
  "metadata": {
    "colab": {
      "name": "HW4.ipynb",
      "provenance": []
    },
    "kernelspec": {
      "name": "python3",
      "display_name": "Python 3"
    },
    "language_info": {
      "name": "python"
    }
  },
  "cells": [
    {
      "cell_type": "code",
      "metadata": {
        "id": "ynWidIKqbLYw"
      },
      "source": [
        "import numpy as np\n",
        "import matplotlib.pyplot as plt"
      ],
      "execution_count": 24,
      "outputs": []
    },
    {
      "cell_type": "code",
      "metadata": {
        "id": "Bmhu3uBKe2iD"
      },
      "source": [
        "\n",
        "x1 = [6,5,4,1,3,5,3,2]\n",
        "x2 = [8,7,1,2,6,6,0,1]\n",
        "x3 = [2,3,9,2,1,2,8,5]\n",
        "x4 = [4,1,8,5,2,0,9,4]"
      ],
      "execution_count": 1,
      "outputs": []
    },
    {
      "cell_type": "code",
      "metadata": {
        "id": "SGSU8KE5f6YB"
      },
      "source": [
        "def fit_function(x):\n",
        "   w = x[0]+x[1]-x[2]-x[3]+x[4]+x[5]-x[6]-x[7]\n",
        "   return w"
      ],
      "execution_count": 3,
      "outputs": []
    },
    {
      "cell_type": "code",
      "metadata": {
        "colab": {
          "base_uri": "https://localhost:8080/"
        },
        "id": "dUbcfCrNlCN4",
        "outputId": "d18e97fe-924d-452d-b95e-02c92ed2e65d"
      },
      "source": [
        "f1 = fit_function(x1)\n",
        "f2 = fit_function(x2)\n",
        "f3 = fit_function(x3)\n",
        "f4 = fit_function(x4)\n",
        "\n",
        "fitfuncs = [f1,f2,f3,f4]\n",
        "fitfuncs"
      ],
      "execution_count": 8,
      "outputs": [
        {
          "output_type": "execute_result",
          "data": {
            "text/plain": [
              "[9, 23, -16, -19]"
            ]
          },
          "metadata": {
            "tags": []
          },
          "execution_count": 8
        }
      ]
    },
    {
      "cell_type": "code",
      "metadata": {
        "id": "GzHhLV5SIpyP",
        "outputId": "f62a567c-1097-4797-ec3d-99356a888aff",
        "colab": {
          "base_uri": "https://localhost:8080/",
          "height": 282
        }
      },
      "source": [
        "plt.scatter(np.arange(0,4),fitfuncs)"
      ],
      "execution_count": 54,
      "outputs": [
        {
          "output_type": "execute_result",
          "data": {
            "text/plain": [
              "<matplotlib.collections.PathCollection at 0x7f70817ca250>"
            ]
          },
          "metadata": {
            "tags": []
          },
          "execution_count": 54
        },
        {
          "output_type": "display_data",
          "data": {
            "image/png": "[encoded data removed]",
            "text/plain": [
              "<Figure size 432x288 with 1 Axes>"
            ]
          },
          "metadata": {
            "tags": [],
            "needs_background": "light"
          }
        }
      ]
    },
    {
      "cell_type": "code",
      "metadata": {
        "id": "-HP8b1LS5qFc"
      },
      "source": [
        "def one_pt_crossover(p1,p2,pt):\n",
        "      c1, c2 = p1.copy(), p2.copy()\n",
        "      c1 = p1[:pt] + p2[pt:]\n",
        "      c2 = p2[:pt] + p1[pt:]\n",
        "      return [c1, c2]"
      ],
      "execution_count": 18,
      "outputs": []
    },
    {
      "cell_type": "code",
      "metadata": {
        "id": "pF_o7kZ97Se_",
        "outputId": "f59a19b3-4445-4939-8d47-27f88da98aef",
        "colab": {
          "base_uri": "https://localhost:8080/"
        }
      },
      "source": [
        "y1 = one_pt_crossover(x1,x2,4)\n",
        "y1"
      ],
      "execution_count": 19,
      "outputs": [
        {
          "output_type": "execute_result",
          "data": {
            "text/plain": [
              "[[6, 5, 4, 1, 6, 6, 0, 1], [8, 7, 1, 2, 3, 5, 3, 2]]"
            ]
          },
          "metadata": {
            "tags": []
          },
          "execution_count": 19
        }
      ]
    },
    {
      "cell_type": "code",
      "metadata": {
        "id": "_hTeF99n8FWk"
      },
      "source": [
        "def two_pt_crossover(p1,p2):\n",
        "  a1, a2 = p1.copy(), p2.copy()\n",
        "  a1 = p1[:1] + p2[1:]\n",
        "  a2 = p2[:1] + p1[1:]\n",
        "\n",
        "  c1 = a1[:6] + a2[6:]\n",
        "  c2 = a2[:6] + a1[6:]\n",
        "  return [c1,c2]"
      ],
      "execution_count": 35,
      "outputs": []
    },
    {
      "cell_type": "code",
      "metadata": {
        "id": "i6YVO1Y-9ixt",
        "outputId": "4695e5c7-5961-4b64-adc3-ea9165173e65",
        "colab": {
          "base_uri": "https://localhost:8080/"
        }
      },
      "source": [
        "y2 = two_pt_crossover(x1,x3)\n",
        "y2"
      ],
      "execution_count": 36,
      "outputs": [
        {
          "output_type": "execute_result",
          "data": {
            "text/plain": [
              "[[6, 3, 9, 2, 1, 2, 3, 2], [2, 5, 4, 1, 3, 5, 8, 5]]"
            ]
          },
          "metadata": {
            "tags": []
          },
          "execution_count": 36
        }
      ]
    },
    {
      "cell_type": "code",
      "metadata": {
        "id": "f73esPokEFAB"
      },
      "source": [
        "def uni_crossover(p1,p2):\n",
        "  c1, c2 = p1.copy(), p2.copy()\n",
        "  Prob = np.random.rand(8)\n",
        "  for i in range(len(Prob)):\n",
        "    if Prob[i] < 0.5:\n",
        "      a = c1[i]\n",
        "      c1[i] = c2[i]\n",
        "      c2[i] = a\n",
        "      return [c1,c2]"
      ],
      "execution_count": 42,
      "outputs": []
    },
    {
      "cell_type": "code",
      "metadata": {
        "id": "0g75rkrwGGLU",
        "outputId": "8d2b9ea1-5628-4ffe-f189-5cad2e6d467f",
        "colab": {
          "base_uri": "https://localhost:8080/"
        }
      },
      "source": [
        "y3 = uni_crossover(x2,x3)\n",
        "y3"
      ],
      "execution_count": 50,
      "outputs": [
        {
          "output_type": "execute_result",
          "data": {
            "text/plain": [
              "[[8, 3, 1, 2, 6, 6, 0, 1], [2, 7, 9, 2, 1, 2, 8, 5]]"
            ]
          },
          "metadata": {
            "tags": []
          },
          "execution_count": 50
        }
      ]
    },
    {
      "cell_type": "code",
      "metadata": {
        "id": "t0sZ-I8SG_Yi",
        "outputId": "f255711b-8c37-4dee-9def-96816fe0c28c",
        "colab": {
          "base_uri": "https://localhost:8080/"
        }
      },
      "source": [
        "new_f1 = fit_function(y1[0])\n",
        "new_f2 = fit_function(y1[1])\n",
        "new_f3 = fit_function(y2[0])\n",
        "new_f4 = fit_function(y2[1])\n",
        "new_f5 = fit_function(y3[0])\n",
        "new_f6 = fit_function(y3[1])\n",
        "new_fitfuncs = [new_f1,new_f2,new_f3,new_f4,new_f5,new_f6]\n",
        "new_fitfuncs"
      ],
      "execution_count": 52,
      "outputs": [
        {
          "output_type": "execute_result",
          "data": {
            "text/plain": [
              "[17, 15, -4, -3, 19, -12]"
            ]
          },
          "metadata": {
            "tags": []
          },
          "execution_count": 52
        }
      ]
    },
    {
      "cell_type": "code",
      "metadata": {
        "id": "n6aX6s3QJEPs",
        "outputId": "6a87d76c-7522-48fe-9376-59376c4e7fe5",
        "colab": {
          "base_uri": "https://localhost:8080/",
          "height": 282
        }
      },
      "source": [
        "plt.scatter(np.arange(0,4),fitfuncs)\n",
        "plt.scatter(np.arange(0,6),new_fitfuncs)"
      ],
      "execution_count": 56,
      "outputs": [
        {
          "output_type": "execute_result",
          "data": {
            "text/plain": [
              "<matplotlib.collections.PathCollection at 0x7f708172e990>"
            ]
          },
          "metadata": {
            "tags": []
          },
          "execution_count": 56
        },
        {
          "output_type": "display_data",
          "data": {
            "image/png": "[encoded data removed]",
            "text/plain": [
              "<Figure size 432x288 with 1 Axes>"
            ]
          },
          "metadata": {
            "tags": [],
            "needs_background": "light"
          }
        }
      ]
    }
  ]
}
