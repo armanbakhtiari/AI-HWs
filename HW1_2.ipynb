{
  "nbformat": 4,
  "nbformat_minor": 0,
  "metadata": {
    "colab": {
      "name": "HW1_2.ipynb",
      "provenance": []
    },
    "kernelspec": {
      "name": "python3",
      "display_name": "Python 3"
    },
    "language_info": {
      "name": "python"
    }
  },
  "cells": [
    {
      "cell_type": "code",
      "metadata": {
        "colab": {
          "base_uri": "https://localhost:8080/"
        },
        "id": "qi-2LG7h2SVu",
        "outputId": "858a3ccc-c5df-4fb2-fb02-686b44d41904"
      },
      "source": [
        "import numpy as np\n",
        "import matplotlib.pyplot as plt\n",
        "\n",
        "\n",
        "x = np.array([1,2,3,4,5,6,7]).reshape((-1,1))\n",
        "y = np.array([9,8,10,12,11,13,14])\n",
        "theta_best = np.linalg.inv(x.T.dot(x)).dot(x.T).dot(y)\n",
        "theta_best"
      ],
      "execution_count": 8,
      "outputs": [
        {
          "output_type": "execute_result",
          "data": {
            "text/plain": [
              "array([2.38571429])"
            ]
          },
          "metadata": {
            "tags": []
          },
          "execution_count": 8
        }
      ]
    }
  ]
}