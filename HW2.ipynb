{
  "nbformat": 4,
  "nbformat_minor": 0,
  "metadata": {
    "colab": {
      "name": "HW2.ipynb",
      "provenance": []
    },
    "kernelspec": {
      "name": "python3",
      "display_name": "Python 3"
    },
    "language_info": {
      "name": "python"
    }
  },
  "cells": [
    {
      "cell_type": "code",
      "metadata": {
        "colab": {
          "base_uri": "https://localhost:8080/",
          "height": 195
        },
        "id": "3yCSHOAhwcpb",
        "outputId": "1af55de9-cb78-43c5-9e64-2dedc607bef3"
      },
      "source": [
        "import numpy as np\n",
        "import pandas as pd\n",
        "import matplotlib.pyplot as plt\n",
        "from sklearn.linear_model import LinearRegression\n",
        "from sklearn.preprocessing import PolynomialFeatures\n",
        "\n",
        "df = pd.read_csv('/content/sample_data/california_housing_train.csv')\n",
        "df.head()"
      ],
      "execution_count": 2,
      "outputs": [
        {
          "output_type": "execute_result",
          "data": {
            "text/html": [
              "<div>\n",
              "<style scoped>\n",
              "    .dataframe tbody tr th:only-of-type {\n",
              "        vertical-align: middle;\n",
              "    }\n",
              "\n",
              "    .dataframe tbody tr th {\n",
              "        vertical-align: top;\n",
              "    }\n",
              "\n",
              "    .dataframe thead th {\n",
              "        text-align: right;\n",
              "    }\n",
              "</style>\n",
              "<table border=\"1\" class=\"dataframe\">\n",
              "  <thead>\n",
              "    <tr style=\"text-align: right;\">\n",
              "      <th></th>\n",
              "      <th>longitude</th>\n",
              "      <th>latitude</th>\n",
              "      <th>housing_median_age</th>\n",
              "      <th>total_rooms</th>\n",
              "      <th>total_bedrooms</th>\n",
              "      <th>population</th>\n",
              "      <th>households</th>\n",
              "      <th>median_income</th>\n",
              "      <th>median_house_value</th>\n",
              "    </tr>\n",
              "  </thead>\n",
              "  <tbody>\n",
              "    <tr>\n",
              "      <th>0</th>\n",
              "      <td>-114.31</td>\n",
              "      <td>34.19</td>\n",
              "      <td>15.0</td>\n",
              "      <td>5612.0</td>\n",
              "      <td>1283.0</td>\n",
              "      <td>1015.0</td>\n",
              "      <td>472.0</td>\n",
              "      <td>1.4936</td>\n",
              "      <td>66900.0</td>\n",
              "    </tr>\n",
              "    <tr>\n",
              "      <th>1</th>\n",
              "      <td>-114.47</td>\n",
              "      <td>34.40</td>\n",
              "      <td>19.0</td>\n",
              "      <td>7650.0</td>\n",
              "      <td>1901.0</td>\n",
              "      <td>1129.0</td>\n",
              "      <td>463.0</td>\n",
              "      <td>1.8200</td>\n",
              "      <td>80100.0</td>\n",
              "    </tr>\n",
              "    <tr>\n",
              "      <th>2</th>\n",
              "      <td>-114.56</td>\n",
              "      <td>33.69</td>\n",
              "      <td>17.0</td>\n",
              "      <td>720.0</td>\n",
              "      <td>174.0</td>\n",
              "      <td>333.0</td>\n",
              "      <td>117.0</td>\n",
              "      <td>1.6509</td>\n",
              "      <td>85700.0</td>\n",
              "    </tr>\n",
              "    <tr>\n",
              "      <th>3</th>\n",
              "      <td>-114.57</td>\n",
              "      <td>33.64</td>\n",
              "      <td>14.0</td>\n",
              "      <td>1501.0</td>\n",
              "      <td>337.0</td>\n",
              "      <td>515.0</td>\n",
              "      <td>226.0</td>\n",
              "      <td>3.1917</td>\n",
              "      <td>73400.0</td>\n",
              "    </tr>\n",
              "    <tr>\n",
              "      <th>4</th>\n",
              "      <td>-114.57</td>\n",
              "      <td>33.57</td>\n",
              "      <td>20.0</td>\n",
              "      <td>1454.0</td>\n",
              "      <td>326.0</td>\n",
              "      <td>624.0</td>\n",
              "      <td>262.0</td>\n",
              "      <td>1.9250</td>\n",
              "      <td>65500.0</td>\n",
              "    </tr>\n",
              "  </tbody>\n",
              "</table>\n",
              "</div>"
            ],
            "text/plain": [
              "   longitude  latitude  ...  median_income  median_house_value\n",
              "0    -114.31     34.19  ...         1.4936             66900.0\n",
              "1    -114.47     34.40  ...         1.8200             80100.0\n",
              "2    -114.56     33.69  ...         1.6509             85700.0\n",
              "3    -114.57     33.64  ...         3.1917             73400.0\n",
              "4    -114.57     33.57  ...         1.9250             65500.0\n",
              "\n",
              "[5 rows x 9 columns]"
            ]
          },
          "metadata": {
            "tags": []
          },
          "execution_count": 2
        }
      ]
    },
    {
      "cell_type": "code",
      "metadata": {
        "colab": {
          "base_uri": "https://localhost:8080/"
        },
        "id": "bpr5AZSsyUcT",
        "outputId": "5385ba04-77e7-4e0e-8c80-876dbc4aad68"
      },
      "source": [
        "y_train = df.median_house_value\n",
        "x_train = df.total_bedrooms\n",
        "\n",
        "poly_features = PolynomialFeatures(degree=2, include_bias=False)\n",
        "x_poly = poly_features.fit_transform(np.array(x_train).reshape(-1,1))\n",
        "\n",
        "poly_reg = LinearRegression()\n",
        "poly_reg.fit(x_poly, y_train)"
      ],
      "execution_count": 5,
      "outputs": [
        {
          "output_type": "execute_result",
          "data": {
            "text/plain": [
              "LinearRegression(copy_X=True, fit_intercept=True, n_jobs=None, normalize=False)"
            ]
          },
          "metadata": {
            "tags": []
          },
          "execution_count": 5
        }
      ]
    },
    {
      "cell_type": "code",
      "metadata": {
        "colab": {
          "base_uri": "https://localhost:8080/"
        },
        "id": "csndQc9v2JLE",
        "outputId": "c80f8494-763b-4e51-9c47-ba3f4c32febe"
      },
      "source": [
        "df_test = pd.read_csv('/content/sample_data/california_housing_test.csv')\n",
        "x_test = df_test.total_bedrooms\n",
        "y_test = df_test.median_house_value\n",
        "\n",
        "y_test.head()"
      ],
      "execution_count": 6,
      "outputs": [
        {
          "output_type": "execute_result",
          "data": {
            "text/plain": [
              "0    344700.0\n",
              "1    176500.0\n",
              "2    270500.0\n",
              "3    330000.0\n",
              "4     81700.0\n",
              "Name: median_house_value, dtype: float64"
            ]
          },
          "metadata": {
            "tags": []
          },
          "execution_count": 6
        }
      ]
    },
    {
      "cell_type": "code",
      "metadata": {
        "colab": {
          "base_uri": "https://localhost:8080/"
        },
        "id": "DnYt9V1w3SY9",
        "outputId": "20d6fcd8-2894-4688-a6ae-3cfc7d3ded5a"
      },
      "source": [
        "x_polytest = poly_features.fit_transform(np.array(x_test).reshape(-1,1))\n",
        "preds = poly_reg.predict(np.array(x_polytest))\n",
        "preds # degree=2"
      ],
      "execution_count": 24,
      "outputs": [
        {
          "output_type": "execute_result",
          "data": {
            "text/plain": [
              "array([211596.14355506, 203094.82990771, 208214.8126605 , ...,\n",
              "       199857.86554564, 193596.89894512, 201735.34303311])"
            ]
          },
          "metadata": {
            "tags": []
          },
          "execution_count": 24
        }
      ]
    },
    {
      "cell_type": "code",
      "metadata": {
        "colab": {
          "base_uri": "https://localhost:8080/",
          "height": 297
        },
        "id": "AGQgqGbkAKds",
        "outputId": "d84da4cb-a9dd-452c-a742-05bfb757a9c5"
      },
      "source": [
        "plt.scatter(x_test, y_test, color='red')\n",
        "plt.plot(x_test, preds, color='blue')\n",
        "plt.xlabel('total_bedrooms')\n",
        "plt.ylabel('price')"
      ],
      "execution_count": 25,
      "outputs": [
        {
          "output_type": "execute_result",
          "data": {
            "text/plain": [
              "Text(0, 0.5, 'price')"
            ]
          },
          "metadata": {
            "tags": []
          },
          "execution_count": 25
        },
        {
          "output_type": "display_data",
          "data": {
            "image/png": "[encoded data removed]",
            "text/plain": [
              "<Figure size 432x288 with 1 Axes>"
            ]
          },
          "metadata": {
            "tags": [],
            "needs_background": "light"
          }
        }
      ]
    },
    {
      "cell_type": "code",
      "metadata": {
        "colab": {
          "base_uri": "https://localhost:8080/"
        },
        "id": "U2gzERHj5KT0",
        "outputId": "530dc221-448c-4458-cbc2-1405f1a9d357"
      },
      "source": [
        "#degree=3\n",
        "poly_features = PolynomialFeatures(degree=3, include_bias=False)\n",
        "x_poly = poly_features.fit_transform(np.array(x_train).reshape(-1,1))\n",
        "poly_reg = LinearRegression()\n",
        "poly_reg.fit(x_poly, y_train)\n",
        "x_polytest = poly_features.fit_transform(np.array(x_test).reshape(-1,1))\n",
        "preds = poly_reg.predict(np.array(x_polytest))\n",
        "preds"
      ],
      "execution_count": 26,
      "outputs": [
        {
          "output_type": "execute_result",
          "data": {
            "text/plain": [
              "array([211596.14355506, 203094.82990771, 208214.8126605 , ...,\n",
              "       199857.86554564, 193596.89894512, 201735.34303311])"
            ]
          },
          "metadata": {
            "tags": []
          },
          "execution_count": 26
        }
      ]
    },
    {
      "cell_type": "code",
      "metadata": {
        "colab": {
          "base_uri": "https://localhost:8080/",
          "height": 297
        },
        "id": "Nz1pMbwY9fRP",
        "outputId": "3b3d0dca-2a7d-443e-afc1-ce1a1666686a"
      },
      "source": [
        "plt.scatter(x_test, y_test, color='red')\n",
        "plt.plot(x_test, preds, color='blue')\n",
        "plt.xlabel('total_bedrooms')\n",
        "plt.ylabel('price')"
      ],
      "execution_count": 23,
      "outputs": [
        {
          "output_type": "execute_result",
          "data": {
            "text/plain": [
              "Text(0, 0.5, 'price')"
            ]
          },
          "metadata": {
            "tags": []
          },
          "execution_count": 23
        },
        {
          "output_type": "display_data",
          "data": {
            "image/png": "[encoded data removed]",
            "text/plain": [
              "<Figure size 432x288 with 1 Axes>"
            ]
          },
          "metadata": {
            "tags": [],
            "needs_background": "light"
          }
        }
      ]
    },
    {
      "cell_type": "code",
      "metadata": {
        "colab": {
          "base_uri": "https://localhost:8080/"
        },
        "id": "HPU3Fv8b51oh",
        "outputId": "fac964c2-ab42-42de-e12d-64951d3ba49f"
      },
      "source": [
        "#degree=4\n",
        "poly_features = PolynomialFeatures(degree=4, include_bias=False)\n",
        "x_poly = poly_features.fit_transform(np.array(x_train).reshape(-1,1))\n",
        "poly_reg = LinearRegression()\n",
        "poly_reg.fit(x_poly, y_train)\n",
        "x_polytest = poly_features.fit_transform(np.array(x_test).reshape(-1,1))\n",
        "preds = poly_reg.predict(np.array(x_polytest))\n",
        "preds"
      ],
      "execution_count": 28,
      "outputs": [
        {
          "output_type": "execute_result",
          "data": {
            "text/plain": [
              "array([211929.0598304 , 203137.15979556, 208563.81862673, ...,\n",
              "       199527.67276601, 192204.18428543, 201636.95862913])"
            ]
          },
          "metadata": {
            "tags": []
          },
          "execution_count": 28
        }
      ]
    },
    {
      "cell_type": "code",
      "metadata": {
        "colab": {
          "base_uri": "https://localhost:8080/",
          "height": 297
        },
        "id": "UyVQIBWzAXeD",
        "outputId": "24b4afb0-42c6-4987-b6df-67263fe5f90d"
      },
      "source": [
        "plt.scatter(x_test, y_test, color='red')\n",
        "plt.plot(x_test, preds, color='blue')\n",
        "plt.xlabel('total_bedrooms')\n",
        "plt.ylabel('price')"
      ],
      "execution_count": 29,
      "outputs": [
        {
          "output_type": "execute_result",
          "data": {
            "text/plain": [
              "Text(0, 0.5, 'price')"
            ]
          },
          "metadata": {
            "tags": []
          },
          "execution_count": 29
        },
        {
          "output_type": "display_data",
          "data": {
            "image/png": "[encoded data removed]",
            "text/plain": [
              "<Figure size 432x288 with 1 Axes>"
            ]
          },
          "metadata": {
            "tags": [],
            "needs_background": "light"
          }
        }
      ]
    },
    {
      "cell_type": "code",
      "metadata": {
        "colab": {
          "base_uri": "https://localhost:8080/"
        },
        "id": "T00utatQ6Bqy",
        "outputId": "84bb4d57-9b6e-4910-8fb0-50c1e42a30df"
      },
      "source": [
        "#degree=5\n",
        "poly_features = PolynomialFeatures(degree=5, include_bias=False)\n",
        "x_poly = poly_features.fit_transform(np.array(x_train).reshape(-1,1))\n",
        "poly_reg = LinearRegression()\n",
        "poly_reg.fit(x_poly, y_train)\n",
        "x_polytest = poly_features.fit_transform(np.array(x_test).reshape(-1,1))\n",
        "preds = poly_reg.predict(np.array(x_polytest))\n",
        "preds"
      ],
      "execution_count": 37,
      "outputs": [
        {
          "output_type": "execute_result",
          "data": {
            "text/plain": [
              "array([211773.88587308, 202825.23177191, 208046.9027837 , ...,\n",
              "       199852.19074562, 194920.90356659, 201543.28057177])"
            ]
          },
          "metadata": {
            "tags": []
          },
          "execution_count": 37
        }
      ]
    },
    {
      "cell_type": "code",
      "metadata": {
        "colab": {
          "base_uri": "https://localhost:8080/",
          "height": 297
        },
        "id": "VXYBXYY3AbXi",
        "outputId": "742b1aa5-1a7d-4b96-b5d4-d15654e01d58"
      },
      "source": [
        "plt.scatter(x_test, y_test, color='red')\n",
        "plt.plot(x_test, preds, color='blue')\n",
        "plt.xlabel('total_bedrooms')\n",
        "plt.ylabel('price')"
      ],
      "execution_count": 38,
      "outputs": [
        {
          "output_type": "execute_result",
          "data": {
            "text/plain": [
              "Text(0, 0.5, 'price')"
            ]
          },
          "metadata": {
            "tags": []
          },
          "execution_count": 38
        },
        {
          "output_type": "display_data",
          "data": {
            "image/png": "[encoded data removed]",
            "text/plain": [
              "<Figure size 432x288 with 1 Axes>"
            ]
          },
          "metadata": {
            "tags": [],
            "needs_background": "light"
          }
        }
      ]
    },
    {
      "cell_type": "code",
      "metadata": {
        "colab": {
          "base_uri": "https://localhost:8080/"
        },
        "id": "iy-wBf0j6G86",
        "outputId": "4e9a719b-0905-4362-c000-fa7728ae4564"
      },
      "source": [
        "#degree=6\n",
        "poly_features = PolynomialFeatures(degree=6, include_bias=False)\n",
        "x_poly = poly_features.fit_transform(np.array(x_train).reshape(-1,1))\n",
        "poly_reg = LinearRegression()\n",
        "poly_reg.fit(x_poly, y_train)\n",
        "x_polytest = poly_features.fit_transform(np.array(x_test).reshape(-1,1))\n",
        "preds = poly_reg.predict(np.array(x_polytest))\n",
        "preds"
      ],
      "execution_count": 14,
      "outputs": [
        {
          "output_type": "execute_result",
          "data": {
            "text/plain": [
              "array([208007.98880883, 204417.36036662, 205982.99029908, ...,\n",
              "       204015.14421042, 203845.92383382, 204207.68325518])"
            ]
          },
          "metadata": {
            "tags": []
          },
          "execution_count": 14
        }
      ]
    },
    {
      "cell_type": "code",
      "metadata": {
        "colab": {
          "base_uri": "https://localhost:8080/"
        },
        "id": "f7gbwyat6Lwg",
        "outputId": "d2af7640-a11f-4f23-de7c-81dd1a3251ec"
      },
      "source": [
        "#degree=7\n",
        "poly_features = PolynomialFeatures(degree=7, include_bias=False)\n",
        "x_poly = poly_features.fit_transform(np.array(x_train).reshape(-1,1))\n",
        "poly_reg = LinearRegression()\n",
        "poly_reg.fit(x_poly, y_train)\n",
        "x_polytest = poly_features.fit_transform(np.array(x_test).reshape(-1,1))\n",
        "preds = poly_reg.predict(np.array(x_polytest))\n",
        "preds"
      ],
      "execution_count": 34,
      "outputs": [
        {
          "output_type": "execute_result",
          "data": {
            "text/plain": [
              "array([206860.64090981, 205965.95693787, 206277.84077034, ...,\n",
              "       205917.3576662 , 205905.89471538, 205938.06644504])"
            ]
          },
          "metadata": {
            "tags": []
          },
          "execution_count": 34
        }
      ]
    },
    {
      "cell_type": "code",
      "metadata": {
        "colab": {
          "base_uri": "https://localhost:8080/",
          "height": 297
        },
        "id": "ypQTmWNmAlcn",
        "outputId": "42cfc594-c040-445a-b07f-2df675c18880"
      },
      "source": [
        "plt.scatter(x_test, y_test, color='red')\n",
        "plt.plot(x_test, preds, color='blue')\n",
        "plt.xlabel('total_bedrooms')\n",
        "plt.ylabel('price')"
      ],
      "execution_count": 35,
      "outputs": [
        {
          "output_type": "execute_result",
          "data": {
            "text/plain": [
              "Text(0, 0.5, 'price')"
            ]
          },
          "metadata": {
            "tags": []
          },
          "execution_count": 35
        },
        {
          "output_type": "display_data",
          "data": {
            "image/png": "[encoded data removed]",
            "text/plain": [
              "<Figure size 432x288 with 1 Axes>"
            ]
          },
          "metadata": {
            "tags": [],
            "needs_background": "light"
          }
        }
      ]
    },
    {
      "cell_type": "code",
      "metadata": {
        "colab": {
          "base_uri": "https://localhost:8080/"
        },
        "id": "KiAeni9o6SK4",
        "outputId": "8a481ae8-0014-4633-8e35-b5b577ea88a2"
      },
      "source": [
        "#degree=8\n",
        "poly_features = PolynomialFeatures(degree=8, include_bias=False)\n",
        "x_poly = poly_features.fit_transform(np.array(x_train).reshape(-1,1))\n",
        "poly_reg = LinearRegression()\n",
        "poly_reg.fit(x_poly, y_train)\n",
        "x_polytest = poly_features.fit_transform(np.array(x_test).reshape(-1,1))\n",
        "preds = poly_reg.predict(np.array(x_polytest))\n",
        "preds"
      ],
      "execution_count": 32,
      "outputs": [
        {
          "output_type": "execute_result",
          "data": {
            "text/plain": [
              "array([206851.75191648, 206681.8547209 , 206728.67066125, ...,\n",
              "       206677.40060116, 206676.77470429, 206679.07880023])"
            ]
          },
          "metadata": {
            "tags": []
          },
          "execution_count": 32
        }
      ]
    },
    {
      "cell_type": "code",
      "metadata": {
        "colab": {
          "base_uri": "https://localhost:8080/",
          "height": 297
        },
        "id": "YdWfayCcAhaB",
        "outputId": "9451b1ed-a28a-4a66-dbf7-ec76a725f07c"
      },
      "source": [
        "plt.scatter(x_test, y_test, color='red')\n",
        "plt.plot(x_test, preds, color='blue')\n",
        "plt.xlabel('total_bedrooms')\n",
        "plt.ylabel('price')"
      ],
      "execution_count": 33,
      "outputs": [
        {
          "output_type": "execute_result",
          "data": {
            "text/plain": [
              "Text(0, 0.5, 'price')"
            ]
          },
          "metadata": {
            "tags": []
          },
          "execution_count": 33
        },
        {
          "output_type": "display_data",
          "data": {
            "image/png": "[encoded data removed]",
            "text/plain": [
              "<Figure size 432x288 with 1 Axes>"
            ]
          },
          "metadata": {
            "tags": [],
            "needs_background": "light"
          }
        }
      ]
    },
    {
      "cell_type": "code",
      "metadata": {
        "colab": {
          "base_uri": "https://localhost:8080/"
        },
        "id": "clwJg5aq6XNK",
        "outputId": "c2523393-def8-4b0b-fa1a-1b60baf9d897"
      },
      "source": [
        "#degree=9\n",
        "poly_features = PolynomialFeatures(degree=9, include_bias=False)\n",
        "x_poly = poly_features.fit_transform(np.array(x_train).reshape(-1,1))\n",
        "poly_reg = LinearRegression()\n",
        "poly_reg.fit(x_poly, y_train)\n",
        "x_polytest = poly_features.fit_transform(np.array(x_test).reshape(-1,1))\n",
        "preds = poly_reg.predict(np.array(x_polytest))\n",
        "preds"
      ],
      "execution_count": 39,
      "outputs": [
        {
          "output_type": "execute_result",
          "data": {
            "text/plain": [
              "array([206987.11458808, 206955.92428839, 206962.65965922, ...,\n",
              "       206955.53173426, 206955.4977455 , 206955.66169516])"
            ]
          },
          "metadata": {
            "tags": []
          },
          "execution_count": 39
        }
      ]
    },
    {
      "cell_type": "code",
      "metadata": {
        "colab": {
          "base_uri": "https://localhost:8080/",
          "height": 297
        },
        "id": "gddjPk03As6F",
        "outputId": "85d78578-7431-4e6c-d35e-19686d9719e9"
      },
      "source": [
        "plt.scatter(x_test, y_test, color='red')\n",
        "plt.plot(x_test, preds, color='blue')\n",
        "plt.xlabel('total_bedrooms')\n",
        "plt.ylabel('price')"
      ],
      "execution_count": 40,
      "outputs": [
        {
          "output_type": "execute_result",
          "data": {
            "text/plain": [
              "Text(0, 0.5, 'price')"
            ]
          },
          "metadata": {
            "tags": []
          },
          "execution_count": 40
        },
        {
          "output_type": "display_data",
          "data": {
            "image/png": "[encoded data removed]",
            "text/plain": [
              "<Figure size 432x288 with 1 Axes>"
            ]
          },
          "metadata": {
            "tags": [],
            "needs_background": "light"
          }
        }
      ]
    },
    {
      "cell_type": "code",
      "metadata": {
        "colab": {
          "base_uri": "https://localhost:8080/"
        },
        "id": "zOqNvWwU6bCg",
        "outputId": "07af5098-0e00-422e-e570-8ddaa79e93b8"
      },
      "source": [
        "#degree=10\n",
        "poly_features = PolynomialFeatures(degree=10, include_bias=False)\n",
        "x_poly = poly_features.fit_transform(np.array(x_train).reshape(-1,1))\n",
        "poly_reg = LinearRegression()\n",
        "poly_reg.fit(x_poly, y_train)\n",
        "x_polytest = poly_features.fit_transform(np.array(x_test).reshape(-1,1))\n",
        "preds = poly_reg.predict(np.array(x_polytest))\n",
        "preds"
      ],
      "execution_count": 41,
      "outputs": [
        {
          "output_type": "execute_result",
          "data": {
            "text/plain": [
              "array([207077.06848151, 207071.18004456, 207072.16982191, ...,\n",
              "       207071.14467389, 207071.14274984, 207071.15490359])"
            ]
          },
          "metadata": {
            "tags": []
          },
          "execution_count": 41
        }
      ]
    },
    {
      "cell_type": "code",
      "metadata": {
        "colab": {
          "base_uri": "https://localhost:8080/",
          "height": 297
        },
        "id": "f4Fdy0tqAwx_",
        "outputId": "2ac08cda-0331-4872-a94f-98410f00d299"
      },
      "source": [
        "plt.scatter(x_test, y_test, color='red')\n",
        "plt.plot(x_test, preds, color='blue')\n",
        "plt.xlabel('total_bedrooms')\n",
        "plt.ylabel('price')"
      ],
      "execution_count": 42,
      "outputs": [
        {
          "output_type": "execute_result",
          "data": {
            "text/plain": [
              "Text(0, 0.5, 'price')"
            ]
          },
          "metadata": {
            "tags": []
          },
          "execution_count": 42
        },
        {
          "output_type": "display_data",
          "data": {
            "image/png": "[encoded data removed]",
            "text/plain": [
              "<Figure size 432x288 with 1 Axes>"
            ]
          },
          "metadata": {
            "tags": [],
            "needs_background": "light"
          }
        }
      ]
    },
    {
      "cell_type": "code",
      "metadata": {
        "colab": {
          "base_uri": "https://localhost:8080/"
        },
        "id": "4wxsqMnd7zED",
        "outputId": "20637f6b-2d20-4f2b-da50-fe58c13470cd"
      },
      "source": [
        "#best model\n",
        "#prediction for 200 bedrooms\n",
        "poly_features = PolynomialFeatures(degree=3, include_bias=False)\n",
        "x_poly = poly_features.fit_transform(np.array(x_train).reshape(-1,1))\n",
        "poly_reg = LinearRegression()\n",
        "poly_reg.fit(x_poly, y_train)\n",
        "x_polytest = poly_features.fit_transform(np.array(x_test).reshape(-1,1))\n",
        "preds = poly_reg.predict(np.array(x_polytest))\n",
        "\n",
        "poly_reg.predict(poly_features.fit_transform([[200]]))"
      ],
      "execution_count": 20,
      "outputs": [
        {
          "output_type": "execute_result",
          "data": {
            "text/plain": [
              "array([199826.79012527])"
            ]
          },
          "metadata": {
            "tags": []
          },
          "execution_count": 20
        }
      ]
    }
  ]
}