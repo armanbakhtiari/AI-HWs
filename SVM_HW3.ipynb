{
  "nbformat": 4,
  "nbformat_minor": 0,
  "metadata": {
    "colab": {
      "name": "HW3.ipynb",
      "provenance": []
    },
    "kernelspec": {
      "name": "python3",
      "display_name": "Python 3"
    },
    "language_info": {
      "name": "python"
    }
  },
  "cells": [
    {
      "cell_type": "code",
      "metadata": {
        "id": "P3f5MFTE0fus"
      },
      "source": [
        "import numpy as np\n",
        "import matplotlib.pyplot as plt\n",
        "from sklearn.svm import SVC"
      ],
      "execution_count": 8,
      "outputs": []
    },
    {
      "cell_type": "code",
      "metadata": {
        "colab": {
          "base_uri": "https://localhost:8080/",
          "height": 282
        },
        "id": "OGIjmjUu0_WW",
        "outputId": "6e6d07c9-6f35-4d34-d872-02c0fd868957"
      },
      "source": [
        "clmin1x = [2,3,4,5,4,3,4,5,6]\n",
        "clmin1y = [2,3,4,5,6,7,8,9,10]\n",
        "clpls1x = [6,7,8,9,8,7,7,7,8]\n",
        "clpls1y = [2,3,4,5,6,7,8,9,10]\n",
        "plt.scatter(clmin1x, clmin1y , color='red')\n",
        "plt.scatter(clpls1x, clpls1y, color='blue')"
      ],
      "execution_count": 4,
      "outputs": [
        {
          "output_type": "execute_result",
          "data": {
            "text/plain": [
              "<matplotlib.collections.PathCollection at 0x7f59c6acb410>"
            ]
          },
          "metadata": {
            "tags": []
          },
          "execution_count": 4
        },
        {
          "output_type": "display_data",
          "data": {
            "image/png": "[encoded data removed]",
            "text/plain": [
              "<Figure size 432x288 with 1 Axes>"
            ]
          },
          "metadata": {
            "tags": [],
            "needs_background": "light"
          }
        }
      ]
    },
    {
      "cell_type": "code",
      "metadata": {
        "id": "V-zLdBORD4U8"
      },
      "source": [
        "clx = np.array([[2,2], [3,3], [4,4], [5,5], [4,6], [3,7], [4,8], [5,9], [6,10], [6,2], [7,3], [8,4], [9,5], [8,6], [7,7], [7,8], [7,9], [8,10]])\n",
        "cly = [-1,-1,-1,-1,-1,-1,-1,-1,-1,1,1,1,1,1,1,1,1,1]"
      ],
      "execution_count": 13,
      "outputs": []
    },
    {
      "cell_type": "code",
      "metadata": {
        "colab": {
          "base_uri": "https://localhost:8080/"
        },
        "id": "fNFZnRjKHaR9",
        "outputId": "130b7aaa-34c3-4608-c428-1f03ec0835f4"
      },
      "source": [
        "clf = svm.SVC(kernel='linear', C = 1.0)\n",
        "clf.fit(clx,cly)"
      ],
      "execution_count": 14,
      "outputs": [
        {
          "output_type": "execute_result",
          "data": {
            "text/plain": [
              "SVC(C=1.0, break_ties=False, cache_size=200, class_weight=None, coef0=0.0,\n",
              "    decision_function_shape='ovr', degree=3, gamma='scale', kernel='linear',\n",
              "    max_iter=-1, probability=False, random_state=None, shrinking=True,\n",
              "    tol=0.001, verbose=False)"
            ]
          },
          "metadata": {
            "tags": []
          },
          "execution_count": 14
        }
      ]
    },
    {
      "cell_type": "code",
      "metadata": {
        "colab": {
          "base_uri": "https://localhost:8080/"
        },
        "id": "Y2I1Tw3YJUJY",
        "outputId": "684489ce-c523-4bd0-bb07-06b8c4f9db9e"
      },
      "source": [
        "clf.support_vectors_"
      ],
      "execution_count": 16,
      "outputs": [
        {
          "output_type": "execute_result",
          "data": {
            "text/plain": [
              "array([[ 5.,  5.],\n",
              "       [ 6., 10.],\n",
              "       [ 7.,  8.],\n",
              "       [ 7.,  9.]])"
            ]
          },
          "metadata": {
            "tags": []
          },
          "execution_count": 16
        }
      ]
    },
    {
      "cell_type": "code",
      "metadata": {
        "colab": {
          "base_uri": "https://localhost:8080/",
          "height": 282
        },
        "id": "JyqFkJFHJbji",
        "outputId": "5af286f3-d4ce-4c1c-9a75-f62bed96d878"
      },
      "source": [
        "plt.scatter(clx[:,0], clx[:,1], c=cly)\n"
      ],
      "execution_count": 31,
      "outputs": [
        {
          "output_type": "execute_result",
          "data": {
            "text/plain": [
              "<matplotlib.collections.PathCollection at 0x7f59b58082d0>"
            ]
          },
          "metadata": {
            "tags": []
          },
          "execution_count": 31
        },
        {
          "output_type": "display_data",
          "data": {
            "image/png": "[encoded data removed]",
            "text/plain": [
              "<Figure size 432x288 with 1 Axes>"
            ]
          },
          "metadata": {
            "tags": [],
            "needs_background": "light"
          }
        }
      ]
    },
    {
      "cell_type": "code",
      "metadata": {
        "colab": {
          "base_uri": "https://localhost:8080/",
          "height": 282
        },
        "id": "vrFnHr-9VGUu",
        "outputId": "514aa855-3341-440d-8929-34cfe1b84b4b"
      },
      "source": [
        "plt.scatter(clx[:,0], clx[:,1], c=cly)\n",
        "ax = plt.gca()\n",
        "xlim = ax.get_xlim()\n",
        "ylim = ax.get_ylim()\n",
        "\n",
        "x = np.linspace(xlim[0], xlim[1], 30)\n",
        "y = np.linspace(ylim[0], ylim[1], 30)\n",
        "Y, X = np.meshgrid(y, x)\n",
        "xy = np.vstack([X.ravel(), Y.ravel()]).T\n",
        "P = clf.decision_function(xy).reshape(X.shape)\n",
        "\n",
        "ax.contour(X, Y, P, colors='k', levels=[-1, 0, 1], alpha=0.5, linestyles=['--', '-', '--'])\n",
        "\n",
        "\n",
        "ax.scatter(clf.support_vectors_[:, 0], clf.support_vectors_[:, 1], s=300, linewidth=1, facecolors='none', edgecolors='red')\n",
        "\n",
        "ax.set_xlim(xlim)\n",
        "ax.set_ylim(ylim)"
      ],
      "execution_count": 47,
      "outputs": [
        {
          "output_type": "execute_result",
          "data": {
            "text/plain": [
              "(1.6, 10.4)"
            ]
          },
          "metadata": {
            "tags": []
          },
          "execution_count": 47
        },
        {
          "output_type": "display_data",
          "data": {
            "image/png": "[encoded data removed]",
            "text/plain": [
              "<Figure size 432x288 with 1 Axes>"
            ]
          },
          "metadata": {
            "tags": [],
            "needs_background": "light"
          }
        }
      ]
    }
  ]
}
